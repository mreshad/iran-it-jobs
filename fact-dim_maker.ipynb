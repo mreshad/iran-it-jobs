{
 "cells": [
  {
   "cell_type": "code",
   "execution_count": 37,
   "id": "04cbd0bf",
   "metadata": {},
   "outputs": [],
   "source": [
    "import pandas as pd\n",
    "import jdatetime\n",
    "from datetime import timedelta"
   ]
  },
  {
   "cell_type": "code",
   "execution_count": 38,
   "id": "23d4665e",
   "metadata": {},
   "outputs": [
    {
     "data": {
      "text/html": [
       "<div>\n",
       "<style scoped>\n",
       "    .dataframe tbody tr th:only-of-type {\n",
       "        vertical-align: middle;\n",
       "    }\n",
       "\n",
       "    .dataframe tbody tr th {\n",
       "        vertical-align: top;\n",
       "    }\n",
       "\n",
       "    .dataframe thead th {\n",
       "        text-align: right;\n",
       "    }\n",
       "</style>\n",
       "<table border=\"1\" class=\"dataframe\">\n",
       "  <thead>\n",
       "    <tr style=\"text-align: right;\">\n",
       "      <th></th>\n",
       "      <th>job_id</th>\n",
       "      <th>date</th>\n",
       "      <th>job_title</th>\n",
       "      <th>experience_level</th>\n",
       "      <th>city</th>\n",
       "      <th>remote_option</th>\n",
       "      <th>company_size</th>\n",
       "      <th>gender</th>\n",
       "      <th>skills_required</th>\n",
       "      <th>salary_million_tmn</th>\n",
       "    </tr>\n",
       "  </thead>\n",
       "  <tbody>\n",
       "    <tr>\n",
       "      <th>0</th>\n",
       "      <td>16d869d5-0bb2-4c6d-bac3-25d00a94c7d8</td>\n",
       "      <td>1403-11-22</td>\n",
       "      <td>DevOps Engineer</td>\n",
       "      <td>Junior</td>\n",
       "      <td>Tehran</td>\n",
       "      <td>False</td>\n",
       "      <td>Medium</td>\n",
       "      <td>Male</td>\n",
       "      <td>['CI/CD', 'Linux Administration', 'Monitoring ...</td>\n",
       "      <td>22.49</td>\n",
       "    </tr>\n",
       "    <tr>\n",
       "      <th>1</th>\n",
       "      <td>c12e7ca2-cfae-4eeb-9091-09d5c6c2d655</td>\n",
       "      <td>1403-02-27</td>\n",
       "      <td>Data Analyst</td>\n",
       "      <td>Expert</td>\n",
       "      <td>Isfahan</td>\n",
       "      <td>False</td>\n",
       "      <td>Small</td>\n",
       "      <td>Male</td>\n",
       "      <td>['Excel', 'Presentation', 'Data Analysis']</td>\n",
       "      <td>64.01</td>\n",
       "    </tr>\n",
       "  </tbody>\n",
       "</table>\n",
       "</div>"
      ],
      "text/plain": [
       "                                 job_id        date        job_title  \\\n",
       "0  16d869d5-0bb2-4c6d-bac3-25d00a94c7d8  1403-11-22  DevOps Engineer   \n",
       "1  c12e7ca2-cfae-4eeb-9091-09d5c6c2d655  1403-02-27     Data Analyst   \n",
       "\n",
       "  experience_level     city  remote_option company_size gender  \\\n",
       "0           Junior   Tehran          False       Medium   Male   \n",
       "1           Expert  Isfahan          False        Small   Male   \n",
       "\n",
       "                                     skills_required  salary_million_tmn  \n",
       "0  ['CI/CD', 'Linux Administration', 'Monitoring ...               22.49  \n",
       "1         ['Excel', 'Presentation', 'Data Analysis']               64.01  "
      ]
     },
     "execution_count": 38,
     "metadata": {},
     "output_type": "execute_result"
    }
   ],
   "source": [
    "df = pd.read_csv('Project3_Dataset.csv')\n",
    "\n",
    "df.head(2)"
   ]
  },
  {
   "cell_type": "code",
   "execution_count": 39,
   "id": "0498c76a",
   "metadata": {},
   "outputs": [],
   "source": [
    "\n",
    "# ایجاد بازه تاریخ\n",
    "start_date = jdatetime.date(1403, 1, 1)\n",
    "end_date = jdatetime.date(1404, 12, 29)\n",
    "date_list = [start_date + timedelta(days=x) for x in range((end_date - start_date).days + 1)]\n",
    "\n",
    "# ساخت دیتافریم\n",
    "dim_date = pd.DataFrame({\n",
    "    'date': [str(d) for d in date_list],\n",
    "    'date_id': range(1, len(date_list) + 1),\n",
    "    'year': [d.year for d in date_list],\n",
    "    'month': [d.month for d in date_list],\n",
    "    'day': [d.day for d in date_list],\n",
    "    'month_name': [d.strftime('%B') for d in date_list],  # نام ماه به فارسی\n",
    "    'quarter': [(d.month - 1) // 3 + 1 for d in date_list],  # فصل\n",
    "    'daypulse': [d.weekday() for d in date_list]\n",
    "})\n",
    "\n"
   ]
  },
  {
   "cell_type": "code",
   "execution_count": 40,
   "id": "075eb163",
   "metadata": {},
   "outputs": [],
   "source": [
    "# جایگزینی مقادیر ستون date در df با مقدار date_id از dim_date بر اساس ستون date\n",
    "df['date'] = df['date'].map(dim_date.set_index('date')['date_id']).combine_first(df['date'])\n"
   ]
  },
  {
   "cell_type": "code",
   "execution_count": 41,
   "id": "9855c12c",
   "metadata": {},
   "outputs": [
    {
     "data": {
      "text/plain": [
       "16       1403-15-01\n",
       "67       1403-02-40\n",
       "328      1404-03-54\n",
       "562      1704-01-14\n",
       "3944     1403-18-23\n",
       "4080    1403-03-325\n",
       "4330     1403-16-14\n",
       "4814     1403-02-47\n",
       "5152     1403-18-18\n",
       "5546     1404-13-42\n",
       "5716     1403-00-24\n",
       "6041     1803-09-58\n",
       "6536     1403-22-21\n",
       "Name: date, dtype: object"
      ]
     },
     "execution_count": 41,
     "metadata": {},
     "output_type": "execute_result"
    }
   ],
   "source": [
    "# پیدا کردن مقادیری که نوع داده آنها در ستون date متفاوت است\n",
    "df[df['date'].apply(lambda x: not isinstance(x, (int, float)))].date\n"
   ]
  },
  {
   "cell_type": "code",
   "execution_count": 42,
   "id": "086e45bd",
   "metadata": {},
   "outputs": [],
   "source": [
    "# بر اساس ایندکس‌های داده شده، مقدار ستون date را در df اصلاح می‌کنیم\n",
    "date_corrections = {\n",
    "    16: '1403-12-01',\n",
    "    67: '1403-02-04',\n",
    "    328: '1404-03-04',\n",
    "    562: '1404-01-14',\n",
    "    3944: '1403-08-23',\n",
    "    4080: '1403-03-25',\n",
    "    4330: '1403-06-14',\n",
    "    4814: '1403-02-07',\n",
    "    5152: '1403-08-18',\n",
    "    5546: '1404-03-02',\n",
    "    5716: '1403-01-24',\n",
    "    6041: '1403-09-08',\n",
    "    6536: '1403-12-21'\n",
    "}\n",
    "\n",
    "for idx, new_date in date_corrections.items():\n",
    "    if idx in df.index:\n",
    "        df.at[idx, 'date'] = new_date\n",
    "\n",
    "df['date'] = df['date'].map(dim_date.set_index('date')['date_id']).combine_first(df['date'])\n",
    "df.rename(columns={'date': 'date_id'}, inplace=True)\n",
    "df['date_id'] = df['date_id'].astype(int)\n"
   ]
  },
  {
   "cell_type": "code",
   "execution_count": 43,
   "id": "742a2cf0",
   "metadata": {},
   "outputs": [
    {
     "name": "stdout",
     "output_type": "stream",
     "text": [
      "Year: 1403, Month: 01, Days: ['01', '02', '03', '04', '05', '06', '07', '08', '09', '10', '11', '12', '13', '14', '15', '16', '17', '18', '19', '20', '21', '22', '23', '24', '25', '26', '27', '28', '29', '30', '31']\n",
      "Year: 1403, Month: 02, Days: ['01', '02', '03', '04', '05', '06', '07', '08', '09', '10', '11', '12', '13', '14', '15', '16', '17', '18', '19', '20', '21', '22', '23', '24', '25', '26', '27', '28', '29', '30', '31']\n",
      "Year: 1403, Month: 03, Days: ['01', '02', '03', '04', '05', '06', '07', '08', '09', '10', '11', '12', '13', '14', '15', '16', '17', '18', '19', '20', '21', '22', '23', '24', '25', '26', '27', '28', '29', '30', '31']\n",
      "Year: 1403, Month: 04, Days: ['01', '02', '03', '04', '05', '06', '07', '08', '09', '10', '11', '12', '13', '14', '15', '16', '17', '18', '19', '20', '21', '22', '23', '24', '25', '26', '27', '28', '29', '30', '31']\n",
      "Year: 1403, Month: 05, Days: ['01', '02', '03', '04', '05', '06', '07', '08', '09', '10', '11', '12', '13', '14', '15', '16', '17', '18', '19', '20', '21', '22', '23', '24', '25', '26', '27', '28', '29', '30', '31']\n",
      "Year: 1403, Month: 06, Days: ['01', '02', '03', '04', '05', '06', '07', '08', '09', '10', '11', '12', '13', '14', '15', '16', '17', '18', '19', '20', '21', '22', '23', '24', '25', '26', '27', '28', '29', '30', '31']\n",
      "Year: 1403, Month: 07, Days: ['01', '02', '03', '04', '05', '06', '07', '08', '09', '10', '11', '12', '13', '14', '15', '16', '17', '18', '19', '20', '21', '22', '23', '24', '25', '26', '27', '28', '29', '30']\n",
      "Year: 1403, Month: 08, Days: ['01', '02', '03', '04', '05', '06', '07', '08', '09', '10', '11', '12', '13', '14', '15', '16', '17', '18', '19', '20', '21', '22', '23', '24', '25', '26', '27', '28', '29', '30']\n",
      "Year: 1403, Month: 09, Days: ['01', '02', '03', '04', '05', '06', '07', '08', '09', '10', '11', '12', '13', '14', '15', '16', '17', '18', '19', '20', '21', '22', '23', '24', '25', '26', '27', '28', '29', '30']\n",
      "Year: 1403, Month: 10, Days: ['01', '02', '03', '04', '05', '06', '07', '08', '09', '10', '11', '12', '13', '14', '15', '16', '17', '18', '19', '20', '21', '22', '23', '24', '25', '26', '27', '28', '29', '30']\n",
      "Year: 1403, Month: 11, Days: ['01', '02', '03', '04', '05', '06', '07', '08', '09', '10', '11', '12', '13', '14', '15', '16', '17', '18', '19', '20', '21', '22', '23', '24', '25', '26', '27', '28', '29', '30']\n",
      "Year: 1403, Month: 12, Days: ['01', '02', '03', '04', '05', '06', '07', '08', '09', '10', '11', '12', '13', '14', '15', '16', '17', '18', '19', '20', '21', '22', '23', '24', '25', '26', '27', '28', '29', '30']\n",
      "Year: 1404, Month: 01, Days: ['01', '02', '03', '04', '05', '06', '07', '08', '09', '10', '11', '12', '13', '14', '15', '16', '17', '18', '19', '20', '21', '22', '23', '24', '25', '26', '27', '28', '29', '30', '31']\n",
      "Year: 1404, Month: 02, Days: ['01', '02', '03', '04', '05', '06', '07', '08', '09', '10', '11', '12', '13', '14', '15', '16', '17', '18', '19', '20', '21', '22', '23', '24', '25', '26', '27', '28', '29', '30', '31']\n",
      "Year: 1404, Month: 03, Days: ['01', '02', '03', '04', '05', '06', '07', '08', '09', '10', '11', '12', '13', '14', '15', '16', '17', '18', '19', '20', '21', '22', '23', '24', '25', '26', '27', '28', '29', '30', '31']\n",
      "Year: 1404, Month: 04, Days: ['01', '02', '03', '04', '05', '06', '07', '08', '09', '10', '11', '12', '13', '14', '15', '16', '17', '18', '19', '20', '21', '22', '23', '24', '25', '26', '27', '28', '29', '30', '31']\n"
     ]
    }
   ],
   "source": [
    "# برای هر سال و ماه، لیست روزها را چاپ می‌کنیم\n",
    "from collections import defaultdict\n",
    "\n",
    "# فرض می‌کنیم ستون date_id در df وجود دارد و معادل تاریخ میلادی است\n",
    "# اگر نه، از ستون date (که به صورت جلالی است) استفاده می‌کنیم\n",
    "# فرمت تاریخ: YYYY-MM-DD\n",
    "\n",
    "days_by_year_month = defaultdict(list)\n",
    "\n",
    "for date_str in df['date_id']:\n",
    "    # اگر مقدار عددی است (date_id)، باید آن را به رشته تبدیل کنیم یا از dim_date برگردانیم\n",
    "    if isinstance(date_str, (int, float)):\n",
    "        # پیدا کردن تاریخ جلالی معادل date_id\n",
    "        jalali_date = dim_date.loc[dim_date['date_id'] == date_str, 'date']\n",
    "        if not jalali_date.empty:\n",
    "            date_str = jalali_date.values[0]\n",
    "        else:\n",
    "            continue  # اگر پیدا نشد، رد می‌کنیم\n",
    "\n",
    "    # حالا date_str باید به صورت 'YYYY-MM-DD' باشد\n",
    "    try:\n",
    "        year, month, day = date_str.split('-')\n",
    "        days_by_year_month[(year, month)].append(day)\n",
    "    except Exception:\n",
    "        continue\n",
    "\n",
    "# چاپ لیست روزها برای هر سال و ماه\n",
    "for (year, month), days in sorted(days_by_year_month.items()):\n",
    "    print(f\"Year: {year}, Month: {month}, Days: {sorted(set(days), key=lambda x: int(x))}\")\n",
    "\n",
    "\n"
   ]
  },
  {
   "cell_type": "code",
   "execution_count": 44,
   "id": "f8dc77ca",
   "metadata": {},
   "outputs": [
    {
     "data": {
      "text/plain": [
       "array(['Tehran', 'Isfahan', 'Kashan', 'Kerman', 'Mashhad', 'Zanjan',\n",
       "       'Shiraz', 'Sari', 'Khorramabad', 'Rasht', 'Ahvaz', 'Babol',\n",
       "       'Qazvin', 'Sabzevar', 'Arak', 'Karaj', 'Ardabil', 'Qom', 'Zahedan',\n",
       "       'Neyshabur', 'Tabriz', 'Urmia', 'Amol', 'Gorgan', 'Bushehr',\n",
       "       'Dezful', 'Semnan', 'Hamadan', 'Bojnurd', 'Shahrekord', 'Yazd',\n",
       "       'Yasuj', 'Birjand', 'Abadan', 'Sanandaj', 'Kermanshah', 'Ilam',\n",
       "       'Bandar Abbas', 'Mashhad*-', 'Sanandaj*/', 'Tehran*', 'Urmia/',\n",
       "       'Karaj+', 'Gorgan*/', 'Tehran9+', 'Shiraz+-'], dtype=object)"
      ]
     },
     "execution_count": 44,
     "metadata": {},
     "output_type": "execute_result"
    }
   ],
   "source": [
    "df.city.unique()"
   ]
  },
  {
   "cell_type": "code",
   "execution_count": 45,
   "id": "d58a8fe1",
   "metadata": {},
   "outputs": [],
   "source": [
    "import re\n",
    "\n",
    "def clean_city(city):\n",
    "    # Remove any character that is not a letter (Persian or English) or space\n",
    "    return re.sub(r'[^a-zA-Zآ-ی\\s]', '', str(city))\n",
    "\n",
    "df['city'] = df['city'].apply(clean_city)\n"
   ]
  },
  {
   "cell_type": "code",
   "execution_count": 46,
   "id": "d7b698de",
   "metadata": {},
   "outputs": [
    {
     "data": {
      "text/plain": [
       "array(['Tehran', 'Isfahan', 'Kashan', 'Kerman', 'Mashhad', 'Zanjan',\n",
       "       'Shiraz', 'Sari', 'Khorramabad', 'Rasht', 'Ahvaz', 'Babol',\n",
       "       'Qazvin', 'Sabzevar', 'Arak', 'Karaj', 'Ardabil', 'Qom', 'Zahedan',\n",
       "       'Neyshabur', 'Tabriz', 'Urmia', 'Amol', 'Gorgan', 'Bushehr',\n",
       "       'Dezful', 'Semnan', 'Hamadan', 'Bojnurd', 'Shahrekord', 'Yazd',\n",
       "       'Yasuj', 'Birjand', 'Abadan', 'Sanandaj', 'Kermanshah', 'Ilam',\n",
       "       'Bandar Abbas'], dtype=object)"
      ]
     },
     "execution_count": 46,
     "metadata": {},
     "output_type": "execute_result"
    }
   ],
   "source": [
    "df.city.unique()"
   ]
  },
  {
   "cell_type": "code",
   "execution_count": 47,
   "id": "a2bddeb9",
   "metadata": {},
   "outputs": [
    {
     "data": {
      "text/plain": [
       "array(['Junior', 'Expert', 'Mid-level', 'Senior', 'Intern', 'Lead',\n",
       "       'Mid-level/*', 'Mid-level+/*'], dtype=object)"
      ]
     },
     "execution_count": 47,
     "metadata": {},
     "output_type": "execute_result"
    }
   ],
   "source": [
    "df.experience_level.unique()"
   ]
  },
  {
   "cell_type": "code",
   "execution_count": 48,
   "id": "1cccc8e2",
   "metadata": {},
   "outputs": [],
   "source": [
    "def clean_experience_level(level):\n",
    "    # Remove any character that is not a letter (Persian or English) or space\n",
    "    return re.sub(r'[^a-zA-Zآ-ی\\s]', '', str(level))\n",
    "\n",
    "df['experience_level'] = df['experience_level'].apply(clean_experience_level)\n"
   ]
  },
  {
   "cell_type": "code",
   "execution_count": 49,
   "id": "a95db031",
   "metadata": {},
   "outputs": [
    {
     "data": {
      "text/plain": [
       "array(['Junior', 'Expert', 'Midlevel', 'Senior', 'Intern', 'Lead'],\n",
       "      dtype=object)"
      ]
     },
     "execution_count": 49,
     "metadata": {},
     "output_type": "execute_result"
    }
   ],
   "source": [
    "df.experience_level.unique()"
   ]
  },
  {
   "cell_type": "code",
   "execution_count": 50,
   "id": "eaeddf3d",
   "metadata": {},
   "outputs": [],
   "source": [
    "# Function to parse and separate the list string\n",
    "def parse_skills(skill_string):\n",
    "    # Remove outer brackets and extract quoted strings\n",
    "    cleaned = skill_string.strip(\"[]\")\n",
    "    elements = re.findall(r\"'([^']*)'\", cleaned)\n",
    "    result = []\n",
    "    for element in elements:\n",
    "        if '(' in element:\n",
    "            # Split into main term and parenthetical content\n",
    "            main, rest = element.split(' (')\n",
    "            rest = rest.rstrip(')')\n",
    "            # Add main term and split parenthetical content\n",
    "            result.append(main.strip())\n",
    "            result.extend(x.strip() for x in rest.split(','))\n",
    "        else:\n",
    "            result.append(element.strip())\n",
    "    return result\n",
    "\n",
    "df['skills_required'] = df['skills_required'].apply(parse_skills)"
   ]
  },
  {
   "cell_type": "code",
   "execution_count": 51,
   "id": "e47f118d",
   "metadata": {},
   "outputs": [
    {
     "data": {
      "text/plain": [
       "0       [CI/CD, Linux Administration, Monitoring Tools...\n",
       "1                    [Excel, Presentation, Data Analysis]\n",
       "2                          [Excel, Presentation, PowerBI]\n",
       "3                                            [AI, Python]\n",
       "4                    [Tableau, SQL, Presentation, Python]\n",
       "                              ...                        \n",
       "7195    [Machine Learning, Python, Deep Learning, Math...\n",
       "7196                                       [iOS, Android]\n",
       "7197    [Object-Oriented Programming, API Development,...\n",
       "7198    [Excel, Tableau, Presentation, PowerBI, Machin...\n",
       "7199          [Network Configuration, LAN/WAN Management]\n",
       "Name: skills_required, Length: 7200, dtype: object"
      ]
     },
     "execution_count": 51,
     "metadata": {},
     "output_type": "execute_result"
    }
   ],
   "source": [
    "df.skills_required"
   ]
  },
  {
   "cell_type": "code",
   "execution_count": 52,
   "id": "f6632bc2",
   "metadata": {},
   "outputs": [
    {
     "data": {
      "text/plain": [
       "skills_required\n",
       "[Python, Spark]                                            17\n",
       "[SQL, Python]                                              17\n",
       "[Spark, Python]                                            16\n",
       "[Python, SQL]                                              15\n",
       "[C++, Unity]                                               14\n",
       "                                                           ..\n",
       "[PowerBI, Presentation, Excel, Python]                      1\n",
       "[LAN/WAN Management, Monitoring Tools, Troubleshooting]     1\n",
       "[Presentation, Data Analysis, PowerBI, Excel]               1\n",
       "[SQL, Spark, Big Data, Python]                              1\n",
       "[NoSQL, Spark, Hadoop]                                      1\n",
       "Name: count, Length: 4942, dtype: int64"
      ]
     },
     "execution_count": 52,
     "metadata": {},
     "output_type": "execute_result"
    }
   ],
   "source": [
    "df.skills_required.value_counts()"
   ]
  },
  {
   "cell_type": "code",
   "execution_count": 55,
   "id": "e5265f41",
   "metadata": {},
   "outputs": [
    {
     "data": {
      "text/html": [
       "<div>\n",
       "<style scoped>\n",
       "    .dataframe tbody tr th:only-of-type {\n",
       "        vertical-align: middle;\n",
       "    }\n",
       "\n",
       "    .dataframe tbody tr th {\n",
       "        vertical-align: top;\n",
       "    }\n",
       "\n",
       "    .dataframe thead th {\n",
       "        text-align: right;\n",
       "    }\n",
       "</style>\n",
       "<table border=\"1\" class=\"dataframe\">\n",
       "  <thead>\n",
       "    <tr style=\"text-align: right;\">\n",
       "      <th></th>\n",
       "      <th>job_id</th>\n",
       "      <th>date_id</th>\n",
       "      <th>job_title</th>\n",
       "      <th>experience_level</th>\n",
       "      <th>city</th>\n",
       "      <th>remote_option</th>\n",
       "      <th>company_size</th>\n",
       "      <th>gender</th>\n",
       "      <th>skills_required</th>\n",
       "      <th>salary_million_tmn</th>\n",
       "    </tr>\n",
       "  </thead>\n",
       "  <tbody>\n",
       "    <tr>\n",
       "      <th>0</th>\n",
       "      <td>16d869d5-0bb2-4c6d-bac3-25d00a94c7d8</td>\n",
       "      <td>328</td>\n",
       "      <td>DevOps Engineer</td>\n",
       "      <td>Junior</td>\n",
       "      <td>Tehran</td>\n",
       "      <td>False</td>\n",
       "      <td>Medium</td>\n",
       "      <td>Male</td>\n",
       "      <td>CI/CD</td>\n",
       "      <td>22.49</td>\n",
       "    </tr>\n",
       "    <tr>\n",
       "      <th>1</th>\n",
       "      <td>16d869d5-0bb2-4c6d-bac3-25d00a94c7d8</td>\n",
       "      <td>328</td>\n",
       "      <td>DevOps Engineer</td>\n",
       "      <td>Junior</td>\n",
       "      <td>Tehran</td>\n",
       "      <td>False</td>\n",
       "      <td>Medium</td>\n",
       "      <td>Male</td>\n",
       "      <td>Linux Administration</td>\n",
       "      <td>22.49</td>\n",
       "    </tr>\n",
       "    <tr>\n",
       "      <th>2</th>\n",
       "      <td>16d869d5-0bb2-4c6d-bac3-25d00a94c7d8</td>\n",
       "      <td>328</td>\n",
       "      <td>DevOps Engineer</td>\n",
       "      <td>Junior</td>\n",
       "      <td>Tehran</td>\n",
       "      <td>False</td>\n",
       "      <td>Medium</td>\n",
       "      <td>Male</td>\n",
       "      <td>Monitoring Tools</td>\n",
       "      <td>22.49</td>\n",
       "    </tr>\n",
       "  </tbody>\n",
       "</table>\n",
       "</div>"
      ],
      "text/plain": [
       "                                 job_id  date_id        job_title  \\\n",
       "0  16d869d5-0bb2-4c6d-bac3-25d00a94c7d8      328  DevOps Engineer   \n",
       "1  16d869d5-0bb2-4c6d-bac3-25d00a94c7d8      328  DevOps Engineer   \n",
       "2  16d869d5-0bb2-4c6d-bac3-25d00a94c7d8      328  DevOps Engineer   \n",
       "\n",
       "  experience_level    city  remote_option company_size gender  \\\n",
       "0           Junior  Tehran          False       Medium   Male   \n",
       "1           Junior  Tehran          False       Medium   Male   \n",
       "2           Junior  Tehran          False       Medium   Male   \n",
       "\n",
       "        skills_required  salary_million_tmn  \n",
       "0                 CI/CD               22.49  \n",
       "1  Linux Administration               22.49  \n",
       "2      Monitoring Tools               22.49  "
      ]
     },
     "execution_count": 55,
     "metadata": {},
     "output_type": "execute_result"
    }
   ],
   "source": [
    "# Create a DataFrame where each row is exploded by 'skills_required' so each skill gets its own row\n",
    "df_exploded = df.explode('skills_required').reset_index(drop=True)\n",
    "df_exploded.head(3)"
   ]
  },
  {
   "cell_type": "code",
   "execution_count": 53,
   "id": "425e92a4",
   "metadata": {},
   "outputs": [
    {
     "name": "stdout",
     "output_type": "stream",
     "text": [
      "dim_skill shape: (97, 2)\n"
     ]
    },
    {
     "data": {
      "text/html": [
       "<div>\n",
       "<style scoped>\n",
       "    .dataframe tbody tr th:only-of-type {\n",
       "        vertical-align: middle;\n",
       "    }\n",
       "\n",
       "    .dataframe tbody tr th {\n",
       "        vertical-align: top;\n",
       "    }\n",
       "\n",
       "    .dataframe thead th {\n",
       "        text-align: right;\n",
       "    }\n",
       "</style>\n",
       "<table border=\"1\" class=\"dataframe\">\n",
       "  <thead>\n",
       "    <tr style=\"text-align: right;\">\n",
       "      <th></th>\n",
       "      <th>skill_id</th>\n",
       "      <th>skill</th>\n",
       "    </tr>\n",
       "  </thead>\n",
       "  <tbody>\n",
       "    <tr>\n",
       "      <th>0</th>\n",
       "      <td>1</td>\n",
       "      <td>AI</td>\n",
       "    </tr>\n",
       "    <tr>\n",
       "      <th>1</th>\n",
       "      <td>2</td>\n",
       "      <td>API Development</td>\n",
       "    </tr>\n",
       "    <tr>\n",
       "      <th>2</th>\n",
       "      <td>3</td>\n",
       "      <td>AWS</td>\n",
       "    </tr>\n",
       "  </tbody>\n",
       "</table>\n",
       "</div>"
      ],
      "text/plain": [
       "   skill_id            skill\n",
       "0         1               AI\n",
       "1         2  API Development\n",
       "2         3              AWS"
      ]
     },
     "execution_count": 53,
     "metadata": {},
     "output_type": "execute_result"
    }
   ],
   "source": [
    "# Create a DataFrame with unique skills, sorted alphabetically, and assign skill_id starting from 1\n",
    "unique_skills = sorted(set(skill for skills in df['skills_required'] for skill in skills))\n",
    "dim_skill = pd.DataFrame({\n",
    "    'skill_id': range(1, len(unique_skills) + 1),\n",
    "    'skill': unique_skills\n",
    "})\n",
    "print('dim_skill shape:', dim_skill.shape)\n",
    "dim_skill.head(3)"
   ]
  },
  {
   "cell_type": "code",
   "execution_count": 54,
   "id": "ba22dde3",
   "metadata": {},
   "outputs": [
    {
     "name": "stdout",
     "output_type": "stream",
     "text": [
      "df_job_skill shape: (30076, 2)\n"
     ]
    },
    {
     "data": {
      "text/html": [
       "<div>\n",
       "<style scoped>\n",
       "    .dataframe tbody tr th:only-of-type {\n",
       "        vertical-align: middle;\n",
       "    }\n",
       "\n",
       "    .dataframe tbody tr th {\n",
       "        vertical-align: top;\n",
       "    }\n",
       "\n",
       "    .dataframe thead th {\n",
       "        text-align: right;\n",
       "    }\n",
       "</style>\n",
       "<table border=\"1\" class=\"dataframe\">\n",
       "  <thead>\n",
       "    <tr style=\"text-align: right;\">\n",
       "      <th></th>\n",
       "      <th>job_id</th>\n",
       "      <th>skill_id</th>\n",
       "    </tr>\n",
       "  </thead>\n",
       "  <tbody>\n",
       "    <tr>\n",
       "      <th>0</th>\n",
       "      <td>16d869d5-0bb2-4c6d-bac3-25d00a94c7d8</td>\n",
       "      <td>14</td>\n",
       "    </tr>\n",
       "    <tr>\n",
       "      <th>1</th>\n",
       "      <td>16d869d5-0bb2-4c6d-bac3-25d00a94c7d8</td>\n",
       "      <td>49</td>\n",
       "    </tr>\n",
       "    <tr>\n",
       "      <th>2</th>\n",
       "      <td>16d869d5-0bb2-4c6d-bac3-25d00a94c7d8</td>\n",
       "      <td>55</td>\n",
       "    </tr>\n",
       "  </tbody>\n",
       "</table>\n",
       "</div>"
      ],
      "text/plain": [
       "                                 job_id  skill_id\n",
       "0  16d869d5-0bb2-4c6d-bac3-25d00a94c7d8        14\n",
       "1  16d869d5-0bb2-4c6d-bac3-25d00a94c7d8        49\n",
       "2  16d869d5-0bb2-4c6d-bac3-25d00a94c7d8        55"
      ]
     },
     "execution_count": 54,
     "metadata": {},
     "output_type": "execute_result"
    }
   ],
   "source": [
    "# Create a bridge table between df and dim_skill with columns: job_id and skill_id\n",
    "\n",
    "# First, create a mapping from skill name to skill_id\n",
    "skill_to_id = dict(zip(dim_skill['skill'], dim_skill['skill_id']))\n",
    "\n",
    "# For each row in df, create (job_id, skill_id) pairs\n",
    "bridge_rows = []\n",
    "for idx, row in df.iterrows():\n",
    "    job_id = row['job_id']\n",
    "    for skill in row['skills_required']:\n",
    "        skill_id = skill_to_id.get(skill)\n",
    "        if skill_id is not None:\n",
    "            bridge_rows.append({'job_id': job_id, 'skill_id': skill_id})\n",
    "\n",
    "job_bridge_skill = pd.DataFrame(bridge_rows)\n",
    "print('df_job_skill shape:', df_job_skill.shape)\n",
    "df_job_skill.head(3)\n"
   ]
  },
  {
   "cell_type": "code",
   "execution_count": 4,
   "id": "8acaf32c",
   "metadata": {},
   "outputs": [],
   "source": [
    "import pandas as pd\n",
    "\n",
    "dim_inflation = pd.DataFrame({\n",
    "    'Inflation_Rate (%)': [\n",
    "        33.2, 33.6, 34.5, 35.5, 35.0, 34.0, 33.6, 33.1,\n",
    "        33.0, 33.5, 34.0, 34.5, 35.0, 38.9, 38.7, 39.0\n",
    "    ],\n",
    "    'USD_to_IRR (Free Market Avg)': [\n",
    "        550000, 580000, 600000, 620000, 650000, 680000, 700000, 750000,\n",
    "        800000, 820000, 850000, 880000, 900000, 920000, 930000, 940000\n",
    "    ],\n",
    "    'date': [\n",
    "        '1403-01', '1403-02', '1403-03', '1403-04', '1403-05', '1403-06', '1403-07', '1403-08',\n",
    "        '1403-09', '1403-10', '1403-11', '1403-12', '1404-01', '1404-02', '1404-03', '1404-04'\n",
    "    ],\n",
    "    'date_id': [\n",
    "        '1', '32', '63', '94', '125', '156', '187', '217',\n",
    "        '247', '277', '307', '337', '367', '398', '429', '460'\n",
    "    ]\n",
    "})\n"
   ]
  },
  {
   "cell_type": "markdown",
   "id": "3d4f39d0",
   "metadata": {},
   "source": [
    "## Save CSV file"
   ]
  },
  {
   "cell_type": "code",
   "execution_count": null,
   "id": "7da355b4",
   "metadata": {},
   "outputs": [],
   "source": [
    "\n",
    "df.to_csv('cleand_.csv', index=False)"
   ]
  },
  {
   "cell_type": "code",
   "execution_count": 69,
   "id": "3ab0a72a",
   "metadata": {},
   "outputs": [],
   "source": [
    "dim_date.to_csv('dim_date.csv', index=False)"
   ]
  },
  {
   "cell_type": "code",
   "execution_count": 36,
   "id": "d2b87dc3",
   "metadata": {},
   "outputs": [],
   "source": [
    "job_bridge_skill.to_csv('job_bridge_skill.csv', index=False)"
   ]
  },
  {
   "cell_type": "code",
   "execution_count": 34,
   "id": "580add81",
   "metadata": {},
   "outputs": [],
   "source": [
    "dim_skill.to_csv('dim_skill.csv', index=False)"
   ]
  },
  {
   "cell_type": "code",
   "execution_count": 58,
   "id": "6a9e9b74",
   "metadata": {},
   "outputs": [],
   "source": [
    "df_exploded.to_csv('job_skill_exploded.csv', index=False)"
   ]
  },
  {
   "cell_type": "code",
   "execution_count": 5,
   "id": "b2311255",
   "metadata": {},
   "outputs": [],
   "source": [
    "dim_inflation.to_csv('dim_inflation.csv', index=False)"
   ]
  }
 ],
 "metadata": {
  "kernelspec": {
   "display_name": "Python (aca-ham)",
   "language": "python",
   "name": "aca-ham"
  },
  "language_info": {
   "codemirror_mode": {
    "name": "ipython",
    "version": 3
   },
   "file_extension": ".py",
   "mimetype": "text/x-python",
   "name": "python",
   "nbconvert_exporter": "python",
   "pygments_lexer": "ipython3",
   "version": "3.11.13"
  }
 },
 "nbformat": 4,
 "nbformat_minor": 5
}
