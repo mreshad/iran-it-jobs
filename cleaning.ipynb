{
 "cells": [
  {
   "cell_type": "code",
   "execution_count": 1,
   "id": "84b5a7a5",
   "metadata": {},
   "outputs": [],
   "source": [
    "import pandas as pd\n",
    "\n",
    "df = pd.read_csv('Project3_Dataset.csv')\n"
   ]
  },
  {
   "cell_type": "code",
   "execution_count": 2,
   "id": "9e4f0a71",
   "metadata": {},
   "outputs": [
    {
     "data": {
      "text/html": [
       "<div>\n",
       "<style scoped>\n",
       "    .dataframe tbody tr th:only-of-type {\n",
       "        vertical-align: middle;\n",
       "    }\n",
       "\n",
       "    .dataframe tbody tr th {\n",
       "        vertical-align: top;\n",
       "    }\n",
       "\n",
       "    .dataframe thead th {\n",
       "        text-align: right;\n",
       "    }\n",
       "</style>\n",
       "<table border=\"1\" class=\"dataframe\">\n",
       "  <thead>\n",
       "    <tr style=\"text-align: right;\">\n",
       "      <th></th>\n",
       "      <th>job_id</th>\n",
       "      <th>date</th>\n",
       "      <th>job_title</th>\n",
       "      <th>experience_level</th>\n",
       "      <th>city</th>\n",
       "      <th>remote_option</th>\n",
       "      <th>company_size</th>\n",
       "      <th>gender</th>\n",
       "      <th>skills_required</th>\n",
       "      <th>salary_million_tmn</th>\n",
       "    </tr>\n",
       "  </thead>\n",
       "  <tbody>\n",
       "    <tr>\n",
       "      <th>0</th>\n",
       "      <td>16d869d5-0bb2-4c6d-bac3-25d00a94c7d8</td>\n",
       "      <td>1403-11-22</td>\n",
       "      <td>DevOps Engineer</td>\n",
       "      <td>Junior</td>\n",
       "      <td>Tehran</td>\n",
       "      <td>False</td>\n",
       "      <td>Medium</td>\n",
       "      <td>Male</td>\n",
       "      <td>['CI/CD', 'Linux Administration', 'Monitoring ...</td>\n",
       "      <td>22.49</td>\n",
       "    </tr>\n",
       "    <tr>\n",
       "      <th>1</th>\n",
       "      <td>c12e7ca2-cfae-4eeb-9091-09d5c6c2d655</td>\n",
       "      <td>1403-02-27</td>\n",
       "      <td>Data Analyst</td>\n",
       "      <td>Expert</td>\n",
       "      <td>Isfahan</td>\n",
       "      <td>False</td>\n",
       "      <td>Small</td>\n",
       "      <td>Male</td>\n",
       "      <td>['Excel', 'Presentation', 'Data Analysis']</td>\n",
       "      <td>64.01</td>\n",
       "    </tr>\n",
       "    <tr>\n",
       "      <th>2</th>\n",
       "      <td>9d52e7a2-8ac9-43b2-83b2-8c25e301589f</td>\n",
       "      <td>1403-01-13</td>\n",
       "      <td>Data Analyst</td>\n",
       "      <td>Mid-level</td>\n",
       "      <td>Kashan</td>\n",
       "      <td>False</td>\n",
       "      <td>Small</td>\n",
       "      <td>Male</td>\n",
       "      <td>['Excel', 'Presentation', 'PowerBI']</td>\n",
       "      <td>30.98</td>\n",
       "    </tr>\n",
       "  </tbody>\n",
       "</table>\n",
       "</div>"
      ],
      "text/plain": [
       "                                 job_id        date        job_title  \\\n",
       "0  16d869d5-0bb2-4c6d-bac3-25d00a94c7d8  1403-11-22  DevOps Engineer   \n",
       "1  c12e7ca2-cfae-4eeb-9091-09d5c6c2d655  1403-02-27     Data Analyst   \n",
       "2  9d52e7a2-8ac9-43b2-83b2-8c25e301589f  1403-01-13     Data Analyst   \n",
       "\n",
       "  experience_level     city  remote_option company_size gender  \\\n",
       "0           Junior   Tehran          False       Medium   Male   \n",
       "1           Expert  Isfahan          False        Small   Male   \n",
       "2        Mid-level   Kashan          False        Small   Male   \n",
       "\n",
       "                                     skills_required  salary_million_tmn  \n",
       "0  ['CI/CD', 'Linux Administration', 'Monitoring ...               22.49  \n",
       "1         ['Excel', 'Presentation', 'Data Analysis']               64.01  \n",
       "2               ['Excel', 'Presentation', 'PowerBI']               30.98  "
      ]
     },
     "execution_count": 2,
     "metadata": {},
     "output_type": "execute_result"
    }
   ],
   "source": [
    "df.head(3)"
   ]
  },
  {
   "cell_type": "code",
   "execution_count": 3,
   "id": "26f20b09",
   "metadata": {},
   "outputs": [
    {
     "data": {
      "text/plain": [
       "array(['Tehran', 'Isfahan', 'Kashan', 'Kerman', 'Mashhad', 'Zanjan',\n",
       "       'Shiraz', 'Sari', 'Khorramabad', 'Rasht', 'Ahvaz', 'Babol',\n",
       "       'Qazvin', 'Sabzevar', 'Arak', 'Karaj', 'Ardabil', 'Qom', 'Zahedan',\n",
       "       'Neyshabur', 'Tabriz', 'Urmia', 'Amol', 'Gorgan', 'Bushehr',\n",
       "       'Dezful', 'Semnan', 'Hamadan', 'Bojnurd', 'Shahrekord', 'Yazd',\n",
       "       'Yasuj', 'Birjand', 'Abadan', 'Sanandaj', 'Kermanshah', 'Ilam',\n",
       "       'Bandar Abbas', 'Mashhad*-', 'Sanandaj*/', 'Tehran*', 'Urmia/',\n",
       "       'Karaj+', 'Gorgan*/', 'Tehran9+', 'Shiraz+-'], dtype=object)"
      ]
     },
     "execution_count": 3,
     "metadata": {},
     "output_type": "execute_result"
    }
   ],
   "source": [
    "df.city.unique()"
   ]
  },
  {
   "cell_type": "code",
   "execution_count": 4,
   "id": "00587ee1",
   "metadata": {},
   "outputs": [],
   "source": [
    "import re\n",
    "\n",
    "def clean_city(city):\n",
    "    # Remove any character that is not a letter (Persian or English) or space\n",
    "    return re.sub(r'[^a-zA-Zآ-ی\\s]', '', str(city))\n",
    "\n",
    "df['city'] = df['city'].apply(clean_city)\n"
   ]
  },
  {
   "cell_type": "code",
   "execution_count": 5,
   "id": "85f3abca",
   "metadata": {},
   "outputs": [
    {
     "data": {
      "text/plain": [
       "array(['Tehran', 'Isfahan', 'Kashan', 'Kerman', 'Mashhad', 'Zanjan',\n",
       "       'Shiraz', 'Sari', 'Khorramabad', 'Rasht', 'Ahvaz', 'Babol',\n",
       "       'Qazvin', 'Sabzevar', 'Arak', 'Karaj', 'Ardabil', 'Qom', 'Zahedan',\n",
       "       'Neyshabur', 'Tabriz', 'Urmia', 'Amol', 'Gorgan', 'Bushehr',\n",
       "       'Dezful', 'Semnan', 'Hamadan', 'Bojnurd', 'Shahrekord', 'Yazd',\n",
       "       'Yasuj', 'Birjand', 'Abadan', 'Sanandaj', 'Kermanshah', 'Ilam',\n",
       "       'Bandar Abbas'], dtype=object)"
      ]
     },
     "execution_count": 5,
     "metadata": {},
     "output_type": "execute_result"
    }
   ],
   "source": [
    "df.city.unique()"
   ]
  },
  {
   "cell_type": "code",
   "execution_count": 6,
   "id": "455f3951",
   "metadata": {},
   "outputs": [
    {
     "data": {
      "text/plain": [
       "array(['Junior', 'Expert', 'Mid-level', 'Senior', 'Intern', 'Lead',\n",
       "       'Mid-level/*', 'Mid-level+/*'], dtype=object)"
      ]
     },
     "execution_count": 6,
     "metadata": {},
     "output_type": "execute_result"
    }
   ],
   "source": [
    "df.experience_level.unique()"
   ]
  },
  {
   "cell_type": "code",
   "execution_count": 7,
   "id": "d043614c",
   "metadata": {},
   "outputs": [],
   "source": [
    "def clean_experience_level(level):\n",
    "    # Remove any character that is not a letter (Persian or English) or space\n",
    "    return re.sub(r'[^a-zA-Zآ-ی\\s]', '', str(level))\n",
    "\n",
    "df['experience_level'] = df['experience_level'].apply(clean_experience_level)\n"
   ]
  },
  {
   "cell_type": "code",
   "execution_count": 8,
   "id": "dc803c96",
   "metadata": {},
   "outputs": [
    {
     "data": {
      "text/plain": [
       "array(['Junior', 'Expert', 'Midlevel', 'Senior', 'Intern', 'Lead'],\n",
       "      dtype=object)"
      ]
     },
     "execution_count": 8,
     "metadata": {},
     "output_type": "execute_result"
    }
   ],
   "source": [
    "df.experience_level.unique()"
   ]
  },
  {
   "cell_type": "code",
   "execution_count": 9,
   "id": "2e01ee7f",
   "metadata": {},
   "outputs": [
    {
     "name": "stdout",
     "output_type": "stream",
     "text": [
      "['1403' '1404' '1704' '1803']\n"
     ]
    }
   ],
   "source": [
    "# Get the unique values of the first part (year) of the 'date' column\n",
    "print(df['date'].apply(lambda x: str(x).split('-')[0] if '-' in str(x) else None).unique())\n",
    "\n"
   ]
  },
  {
   "cell_type": "code",
   "execution_count": 10,
   "id": "dae22b07",
   "metadata": {},
   "outputs": [],
   "source": [
    "def fix_year(date_str):\n",
    "    # Assumes date_str is in 'YYYY-MM-DD' format\n",
    "    parts = str(date_str).split('-')\n",
    "    if len(parts) == 3:\n",
    "        year, month, day = parts\n",
    "        if year == '1704':\n",
    "            year = '1404'\n",
    "        elif year == '1803':\n",
    "            year = '1403'\n",
    "        return f\"{year}-{month}-{day}\"\n",
    "    return date_str\n",
    "\n",
    "df['date'] = df['date'].apply(fix_year)\n"
   ]
  },
  {
   "cell_type": "code",
   "execution_count": 11,
   "id": "dda1bf93",
   "metadata": {},
   "outputs": [
    {
     "name": "stdout",
     "output_type": "stream",
     "text": [
      "['1403' '1404']\n"
     ]
    }
   ],
   "source": [
    "# Get the unique values of the first part (year) of the 'date' column\n",
    "print(df['date'].apply(lambda x: str(x).split('-')[0] if '-' in str(x) else None).unique())\n",
    "\n"
   ]
  },
  {
   "cell_type": "code",
   "execution_count": 12,
   "id": "71726787",
   "metadata": {},
   "outputs": [],
   "source": [
    "def fix_month(date_str):\n",
    "    # Assumes date_str is in 'YYYY-MM-DD' format\n",
    "    parts = str(date_str).split('-')\n",
    "    if len(parts) == 3:\n",
    "        year, month, day = parts\n",
    "        try:\n",
    "            month_int = int(month)\n",
    "            # Change '00' to '01'\n",
    "            if month == '00':\n",
    "                month = '01'\n",
    "            elif month_int > 12:\n",
    "                month = '12'\n",
    "            # Ensure month and day are always two digits\n",
    "            return f\"{year}-{month.zfill(2)}-{day.zfill(2)}\"\n",
    "        except ValueError:\n",
    "            return date_str\n",
    "    return date_str\n",
    "df['date'] = df['date'].apply(fix_month)\n"
   ]
  },
  {
   "cell_type": "code",
   "execution_count": 13,
   "id": "a41c6db1",
   "metadata": {},
   "outputs": [
    {
     "name": "stdout",
     "output_type": "stream",
     "text": [
      "['11' '02' '01' '05' '04' '03' '12' '10' '09' '07' '08' '06']\n",
      "12\n"
     ]
    }
   ],
   "source": [
    "print(df['date'].apply(lambda x: str(x).split('-')[1] if '-' in str(x) else None).unique())\n",
    "print(len(df['date'].apply(lambda x: str(x).split('-')[1] if '-' in str(x) else None).unique()))"
   ]
  },
  {
   "cell_type": "code",
   "execution_count": 14,
   "id": "249397ed",
   "metadata": {},
   "outputs": [
    {
     "name": "stdout",
     "output_type": "stream",
     "text": [
      "['22' '27' '13' '14' '17' '02' '10' '12' '11' '29' '04' '01' '16' '19'\n",
      " '03' '09' '24' '20' '26' '18' '23' '25' '06' '08' '40' '07' '28' '31'\n",
      " '05' '30' '21' '15' '54' '325' '47' '42' '58']\n",
      "37\n"
     ]
    }
   ],
   "source": [
    "# Get the unique values of the last part (day) of the 'date' column\n",
    "print(df['date'].apply(lambda x: str(x).split('-')[2] if '-' in str(x) and len(str(x).split('-')) == 3 else None).unique())\n",
    "print(len(df['date'].apply(lambda x: str(x).split('-')[2] if '-' in str(x) and len(str(x).split('-')) == 3 else None).unique()))\n"
   ]
  },
  {
   "cell_type": "code",
   "execution_count": 15,
   "id": "b327e602",
   "metadata": {},
   "outputs": [],
   "source": [
    "def fix_day(date_str):\n",
    "    # Assumes date_str is in 'YYYY-MM-DD' format\n",
    "    parts = str(date_str).split('-')\n",
    "    if len(parts) == 3:\n",
    "        year, month, day = parts\n",
    "        try:\n",
    "            month_int = int(month)\n",
    "            day_int = int(day)\n",
    "            if 1 <= month_int <= 6:\n",
    "                if day_int > 31:\n",
    "                    day = '31'\n",
    "            elif 7 <= month_int <= 12:\n",
    "                if day_int > 30:\n",
    "                    day = '30'\n",
    "            # Ensure month and day are always two digits\n",
    "            return f\"{year}-{month.zfill(2)}-{day.zfill(2)}\"\n",
    "        except ValueError:\n",
    "            return date_str\n",
    "    return date_str\n",
    "\n",
    "df['date'] = df['date'].apply(fix_day)\n"
   ]
  },
  {
   "cell_type": "code",
   "execution_count": 16,
   "id": "3e844e15",
   "metadata": {},
   "outputs": [
    {
     "name": "stdout",
     "output_type": "stream",
     "text": [
      "['22' '27' '13' '14' '17' '02' '10' '12' '11' '29' '04' '01' '16' '19'\n",
      " '03' '09' '24' '20' '26' '18' '23' '25' '06' '08' '31' '07' '28' '05'\n",
      " '30' '21' '15']\n",
      "31\n"
     ]
    }
   ],
   "source": [
    "# Get the unique values of the last part (day) of the 'date' column\n",
    "print(df['date'].apply(lambda x: str(x).split('-')[2] if '-' in str(x) and len(str(x).split('-')) == 3 else None).unique())\n",
    "print(len(df['date'].apply(lambda x: str(x).split('-')[2] if '-' in str(x) and len(str(x).split('-')) == 3 else None).unique()))\n"
   ]
  },
  {
   "cell_type": "code",
   "execution_count": 17,
   "id": "524b2d1e",
   "metadata": {},
   "outputs": [
    {
     "name": "stdout",
     "output_type": "stream",
     "text": [
      "Date range: 1403-01-01 to 1404-12-30\n"
     ]
    }
   ],
   "source": [
    "print(\"Date range:\", df['date'].min(), \"to\", df['date'].max())\n"
   ]
  },
  {
   "cell_type": "code",
   "execution_count": 18,
   "id": "f924014a",
   "metadata": {},
   "outputs": [
    {
     "data": {
      "text/plain": [
       "['1404-04-31',\n",
       " '1404-04-31',\n",
       " '1404-04-31',\n",
       " '1404-04-31',\n",
       " '1404-04-31',\n",
       " '1404-04-31',\n",
       " '1404-04-31',\n",
       " '1404-04-31',\n",
       " '1404-04-31',\n",
       " '1404-12-30']"
      ]
     },
     "execution_count": 18,
     "metadata": {},
     "output_type": "execute_result"
    }
   ],
   "source": [
    "sorted(df.date)[-10:]"
   ]
  },
  {
   "cell_type": "code",
   "execution_count": 19,
   "id": "8f5613b3",
   "metadata": {},
   "outputs": [],
   "source": [
    "df['date'] = df['date'].replace('1404-12-30', '1404-04-30')\n"
   ]
  },
  {
   "cell_type": "code",
   "execution_count": 20,
   "id": "9b01e9a6",
   "metadata": {},
   "outputs": [
    {
     "name": "stdout",
     "output_type": "stream",
     "text": [
      "Date range: 1403-01-01 to 1404-04-31\n"
     ]
    }
   ],
   "source": [
    "print(\"Date range:\", df['date'].min(), \"to\", df['date'].max())\n"
   ]
  },
  {
   "cell_type": "code",
   "execution_count": 21,
   "id": "707f968e",
   "metadata": {},
   "outputs": [],
   "source": [
    "\n",
    "# Read the date_table.csv which contains 'georgian' and 'jalali' columns\n",
    "date_table = pd.read_csv('date_table.csv')\n",
    "\n",
    "# Create a mapping from jalali to georgian\n",
    "jalali_to_georgian = dict(zip(date_table['jalali'], date_table['georgian']))\n",
    "\n",
    "# Replace values in the 'date' column of df using the mapping\n",
    "df['date'] = df['date'].map(jalali_to_georgian).fillna(df['date'])\n"
   ]
  },
  {
   "cell_type": "code",
   "execution_count": 22,
   "id": "b9890943",
   "metadata": {},
   "outputs": [
    {
     "name": "stdout",
     "output_type": "stream",
     "text": [
      "Date range: 2024-03-20 to 2025-07-22\n"
     ]
    }
   ],
   "source": [
    "print(\"Date range:\", df['date'].min(), \"to\", df['date'].max())\n"
   ]
  },
  {
   "cell_type": "code",
   "execution_count": 23,
   "id": "c2bd5e5a-6189-486d-b3dd-7c7bf73c98ff",
   "metadata": {},
   "outputs": [],
   "source": [
    "# Function to parse and separate the list string\n",
    "def parse_skills(skill_string):\n",
    "    # Remove outer brackets and extract quoted strings\n",
    "    cleaned = skill_string.strip(\"[]\")\n",
    "    elements = re.findall(r\"'([^']*)'\", cleaned)\n",
    "    result = []\n",
    "    for element in elements:\n",
    "        if '(' in element:\n",
    "            # Split into main term and parenthetical content\n",
    "            main, rest = element.split(' (')\n",
    "            rest = rest.rstrip(')')\n",
    "            # Add main term and split parenthetical content\n",
    "            result.append(main.strip())\n",
    "            result.extend(x.strip() for x in rest.split(','))\n",
    "        else:\n",
    "            result.append(element.strip())\n",
    "    return result\n",
    "\n",
    "df['skills_required'] = df['skills_required'].apply(parse_skills)"
   ]
  },
  {
   "cell_type": "code",
   "execution_count": 25,
   "id": "c93bfd6a-be6c-4a35-9e36-7bb82483662c",
   "metadata": {},
   "outputs": [
    {
     "data": {
      "text/plain": [
       "0       [CI/CD, Linux Administration, Monitoring Tools...\n",
       "1                    [Excel, Presentation, Data Analysis]\n",
       "2                          [Excel, Presentation, PowerBI]\n",
       "3                                            [AI, Python]\n",
       "4                    [Tableau, SQL, Presentation, Python]\n",
       "                              ...                        \n",
       "7195    [Machine Learning, Python, Deep Learning, Math...\n",
       "7196                                       [iOS, Android]\n",
       "7197    [Object-Oriented Programming, API Development,...\n",
       "7198    [Excel, Tableau, Presentation, PowerBI, Machin...\n",
       "7199          [Network Configuration, LAN/WAN Management]\n",
       "Name: skills_required, Length: 7200, dtype: object"
      ]
     },
     "execution_count": 25,
     "metadata": {},
     "output_type": "execute_result"
    }
   ],
   "source": [
    "df.skills_required"
   ]
  },
  {
   "cell_type": "markdown",
   "id": "0f2ce527",
   "metadata": {},
   "source": [
    "## Saving file to CSV"
   ]
  },
  {
   "cell_type": "code",
   "execution_count": 26,
   "id": "5bfeeb88",
   "metadata": {},
   "outputs": [],
   "source": [
    "# df.to_csv('cleaned_jobs.csv', index=False)\n"
   ]
  },
  {
   "cell_type": "code",
   "execution_count": null,
   "id": "19631b22-0307-4ee1-be0a-b20964e9e5f9",
   "metadata": {},
   "outputs": [],
   "source": []
  }
 ],
 "metadata": {
  "kernelspec": {
   "display_name": "Python (aca-ham)",
   "language": "python",
   "name": "aca-ham"
  },
  "language_info": {
   "codemirror_mode": {
    "name": "ipython",
    "version": 3
   },
   "file_extension": ".py",
   "mimetype": "text/x-python",
   "name": "python",
   "nbconvert_exporter": "python",
   "pygments_lexer": "ipython3",
   "version": "3.11.13"
  }
 },
 "nbformat": 4,
 "nbformat_minor": 5
}
